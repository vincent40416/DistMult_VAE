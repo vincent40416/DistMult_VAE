{
 "cells": [
  {
   "cell_type": "code",
   "execution_count": 1,
   "id": "a9b7a37e-91e9-4ea0-ab4e-4fc2264420d8",
   "metadata": {},
   "outputs": [],
   "source": [
    "from __future__ import absolute_import\n",
    "from __future__ import division\n",
    "from __future__ import print_function\n",
    "\n",
    "import sys\n",
    "\n",
    "if './src' not in sys.path:\n",
    "    sys.path.append('./src')\n",
    "\n",
    "if './' not in sys.path:\n",
    "    sys.path.append('./')\n",
    "\n",
    "import os\n",
    "os.environ['TF_CPP_MIN_LOG_LEVEL'] = '3' \n",
    "from os.path import join\n",
    "from src.data import Data\n",
    "def read_data(data):\n",
    "    data_dir = join('./data', data + '_no_psl')\n",
    "    file_train = join(data_dir, 'train.tsv')  # training data\n",
    "    file_val = join(data_dir, 'val.tsv')  # validation datan\n",
    "    file_test = join(data_dir, 'test.tsv')  # validation datan\n",
    "    file_psl = join(data_dir, 'softlogic.tsv')  # probabilistic soft logic\n",
    "    this_data = Data()\n",
    "    this_data.load_data(file_train=file_train, file_val=file_val, file_test=file_test, file_psl= file_psl )\n",
    "    return this_data\n",
    "# print"
   ]
  },
  {
   "cell_type": "code",
   "execution_count": 2,
   "id": "f4bd1f89-2262-4854-a8bc-0ce9f1eb4333",
   "metadata": {},
   "outputs": [
    {
     "name": "stderr",
     "output_type": "stream",
     "text": [
      "/storage/ssd3/wchao/PASSLEAF/code_passleaf_trimmed/src/data.py:149: RuntimeWarning: divide by zero encountered in power\n",
      "  d_inv_sqrt = np.power(rowsum, -1).flatten()\n"
     ]
    }
   ],
   "source": [
    "ppi5k = read_data(\"ppi5k\")\n",
    "cn15k = read_data(\"cn15k\")\n",
    "nl27k = read_data(\"nl27k\")"
   ]
  },
  {
   "cell_type": "code",
   "execution_count": 88,
   "id": "82662eac-1a57-4185-8940-d96bf59da03f",
   "metadata": {},
   "outputs": [
    {
     "name": "stdout",
     "output_type": "stream",
     "text": [
      "[[0.00000000e+00 0.00000000e+00 1.00000000e+00 3.29000000e-01\n",
      "  1.71821306e-03 1.71821306e-03]\n",
      " [0.00000000e+00 3.00000000e+00 1.04000000e+02 9.12000000e-01\n",
      "  1.71821306e-03 1.71821306e-03]\n",
      " [0.00000000e+00 0.00000000e+00 6.83000000e+02 3.29000000e-01\n",
      "  1.71821306e-03 1.71821306e-03]\n",
      " ...\n",
      " [0.00000000e+00 1.00000000e+00 3.45000000e+02 3.29000000e-01\n",
      "  1.71821306e-03 1.71821306e-03]\n",
      " [0.00000000e+00 1.00000000e+00 2.20000000e+02 4.51000000e-01\n",
      "  1.71821306e-03 1.71821306e-03]\n",
      " [0.00000000e+00 1.00000000e+00 6.83000000e+02 3.29000000e-01\n",
      "  1.71821306e-03 1.71821306e-03]]\n"
     ]
    }
   ],
   "source": [
    "# N = len(ppi5k.cons)  # pool of t: all concept vectors\n",
    "# candidate = np.arange(0, N)\n",
    "# # print(ppi5k.triples[0:50])\n",
    "\n",
    "# data = np.array(ppi5k.triples).astype(int)\n",
    "# ans = data[np.where((data[:,0]==40) & (data[:,1]==0))][:,2]\n",
    "# print(ans)\n",
    "# a = np.arange(0, N) \n",
    "# a[ans] = -100\n",
    "# print(ppi5k.support[0][1][ppi5k.triples[:,1].astype(int)].shape)\n",
    "# print()\n",
    "# ppi5k.triples = np.column_stack((ppi5k.triples, ppi5k.support[0][0][ppi5k.triples[:,0].astype(int)]))\n",
    "print(ppi5k.triples[ppi5k.triples[:,0].argsort()])"
   ]
  },
  {
   "cell_type": "code",
   "execution_count": 23,
   "id": "faa24f7d-6c48-4d6a-8adc-7b357aa75c98",
   "metadata": {},
   "outputs": [],
   "source": [
    "# given h,r return available t,w\n",
    "def make_list(h,r,source):\n",
    "    data = None\n",
    "    if source == 0 :\n",
    "        data = this_data.triples\n",
    "    elif source==1:\n",
    "        data = this_data.val_triples\n",
    "    elif source==2:\n",
    "        data = this_data.test_triples\n",
    "    fil_h = np.asarray([h])\n",
    "    x = data[np.in1d(data[:, 0], fil_h)]\n",
    "    fil_r = np.asarray([r])\n",
    "    x = x[np.in1d(x[:, 1], fil_r)]\n",
    "    note = np.repeat(source, x.shape[0])\n",
    "    x = np.concatenate((x,note[:, None]),axis=1)\n",
    "    return x"
   ]
  },
  {
   "cell_type": "code",
   "execution_count": 5,
   "id": "ecb28497-0681-4187-a769-6c76cc3ab7e5",
   "metadata": {
    "scrolled": true,
    "tags": []
   },
   "outputs": [],
   "source": [
    "import numpy as np\n",
    "# print(this_data.triples)\n",
    "# print(this_data.hpt)\n",
    "# print()\n",
    "# train = this_data.triples\n",
    "# val = this_data.val_triples\n",
    "# test = this_data.test_triples\n",
    "# records = set()\n",
    "# ans = []\n",
    "\n",
    "# for i in this_data.triples:\n",
    "#     if (i[0],i[1]) not in records:\n",
    "#         records.add((i[0],i[1]))\n",
    "#         hrt = None\n",
    "#         for source in range(3):\n",
    "# #             print(dataset)\n",
    "# #         get acceptable t,w given h,r\n",
    "#             a = make_list(i[0],i[1],source)\n",
    "# #             print(a)\n",
    "#             if hrt is None:\n",
    "#                 hrt = a\n",
    "#             else:\n",
    "#                 hrt= np.concatenate([hrt, a],axis=0)\n",
    "# #             print(hrt)\n",
    "#         ans.append(hrt)\n",
    "  "
   ]
  },
  {
   "cell_type": "code",
   "execution_count": 10,
   "id": "061f416b-a8fa-4cf7-8ef7-17d1f373018e",
   "metadata": {
    "scrolled": true,
    "tags": []
   },
   "outputs": [
    {
     "name": "stdout",
     "output_type": "stream",
     "text": [
      "[    0.             0.         11227.             5.62259054\n",
      "     1.        ]\n"
     ]
    }
   ],
   "source": [
    "# data = this_data.triples\n",
    "# fil_h = np.asarray([5])\n",
    "# x = data[np.in1d(data[:, 0], fil_h)]\n",
    "# fil_r = np.asarray([2])\n",
    "# x = x[np.in1d(x[:, 1], fil_r)]\n",
    "# print(x)\n",
    "print(np.sum(ans[0],axis=0))"
   ]
  },
  {
   "cell_type": "code",
   "execution_count": 6,
   "id": "adda1d3a-3823-458b-abb4-d43d7d4418a8",
   "metadata": {
    "scrolled": true,
    "tags": []
   },
   "outputs": [
    {
     "name": "stdout",
     "output_type": "stream",
     "text": [
      "[[   0.            0.            1.            0.89270879    0.        ]\n",
      " [   0.            0.           28.            0.5258777     0.        ]\n",
      " [   0.            0.         1216.            0.89270879    0.        ]\n",
      " [   0.            0.         1232.            0.5258777     0.        ]\n",
      " [   0.            0.         7979.            0.89270879    0.        ]\n",
      " [   0.            0.          526.            0.89270879    0.        ]\n",
      " [   0.            0.          245.            1.            1.        ]]\n"
     ]
    }
   ],
   "source": [
    "\n",
    "np.set_printoptions(suppress=True)\n",
    "np.set_printoptions(formatter={'int': lambda x: \"{0:0.5f}\".format(x)})\n",
    "np.set_printoptions(threshold=sys.maxsize)\n",
    "print(ans[0])\n",
    "# print("
   ]
  },
  {
   "cell_type": "code",
   "execution_count": 274,
   "id": "25e6dfd5-c98b-4343-ac32-a7c01b74acb3",
   "metadata": {},
   "outputs": [
    {
     "data": {
      "text/plain": [
       "<Figure size 432x288 with 0 Axes>"
      ]
     },
     "metadata": {},
     "output_type": "display_data"
    },
    {
     "data": {
      "image/png": "[encoded data removed]",
      "text/plain": [
       "<Figure size 432x288 with 1 Axes>"
      ]
     },
     "metadata": {
      "needs_background": "light"
     },
     "output_type": "display_data"
    }
   ],
   "source": [
    "import matplotlib.pyplot as plt\n",
    "\n",
    "\n",
    "cdict = {0: 'red', 1: 'blue', 2: 'green'}\n",
    "plt.figure(figsize=(6,4))\n",
    "fig, ax = plt.subplots()\n",
    "for a in ans[150:170]:\n",
    "    for g in np.unique(a[:,4].astype(int)):\n",
    "        ix = np.where(a[:,4] == g)\n",
    "#         print(a[ix,2])\n",
    "        ax.scatter(a[ix,2], a[ix,3], c = cdict[g], label = g)\n",
    "plt.savefig(\"dataset_distribution_2.png\")\n",
    "plt.show()"
   ]
  },
  {
   "cell_type": "code",
   "execution_count": 268,
   "id": "a5201e42-7102-4e54-8b48-a2a162eab142",
   "metadata": {
    "scrolled": true,
    "tags": []
   },
   "outputs": [
    {
     "name": "stdout",
     "output_type": "stream",
     "text": [
      "[array([[0.   , 0.   , 1.   , 0.859, 0.   ],\n",
      "       [0.   , 0.   , 2.   , 0.437, 0.   ]]), array([[3.   , 1.   , 4.   , 1.   , 0.   ],\n",
      "       [3.   , 1.   , 5.   , 0.437, 0.   ],\n",
      "       [3.   , 1.   , 6.   , 0.719, 0.   ]]), array([[7.   , 2.   , 8.   , 0.437, 0.   ]]), array([[ 9.,  3., 10.,  1.,  0.],\n",
      "       [ 9.,  3., 11.,  1.,  0.],\n",
      "       [ 9.,  3., 12.,  1.,  0.]]), array([[ 9.,  4., 13.,  1.,  0.]]), array([[14.   ,  5.   , 15.   ,  0.998,  0.   ]]), array([[14.   ,  6.   , 16.   ,  0.437,  0.   ],\n",
      "       [14.   ,  6.   , 15.   ,  1.   ,  0.   ]]), array([[17.   ,  7.   , 18.   ,  0.859,  0.   ]]), array([[19.,  3., 20.,  1.,  0.]]), array([[19.,  8., 21.,  1.,  0.]]), array([[19.,  9., 22.,  1.,  0.],\n",
      "       [19.,  9., 21.,  1.,  2.]]), array([[23., 10., 24.,  1.,  0.]]), array([[25.   ,  6.   , 26.   ,  0.437,  0.   ]]), array([[25.   , 11.   , 27.   ,  0.965,  0.   ]]), array([[25., 12., 28.,  1.,  0.]]), array([[29.  , 13.  , 30.  ,  0.55,  0.  ],\n",
      "       [29.  , 13.  , 31.  ,  1.  ,  0.  ]]), array([[29.,  6., 32.,  1.,  0.]]), array([[29., 14., 33.,  1.,  0.]]), array([[34.   ,  6.   , 35.   ,  0.859,  0.   ]]), array([[36.   , 10.   , 37.   ,  0.437,  0.   ]])]\n"
     ]
    }
   ],
   "source": [
    "a = ans[0:20]\n",
    "np.set_printoptions(precision=3)\n",
    "print(a)\n",
    "# print(a[np.where(ans[:,0]==5)])"
   ]
  },
  {
   "cell_type": "code",
   "execution_count": 266,
   "id": "35fbc274-97a8-44ec-90d7-0f2ed9f006d8",
   "metadata": {},
   "outputs": [],
   "source": [
    "def mean_hitAtK(ans, type_of_dataset, ks, weighted = None, verbose=False, accurate_mode=False):\n",
    "        \"\"\"\n",
    "        :param hr_map: {h:{r:{t:w}}}\n",
    "        :param weighted: use linearly weighted metrics\n",
    "        :param accurate_mode: set this flag to disable \"Fast Ranking\"\n",
    "        :return:\n",
    "        \"\"\"\n",
    "        # hitAt10_sum = 0  # nDCG with linear gain\n",
    "        # count = 0\n",
    "        hitAtK = np.zeros((len(ks),))\n",
    "        count = np.zeros((len(ks),))\n",
    "\n",
    "        if weighted == None:\n",
    "            weighted = [False for _ in range(len(ks))]\n",
    "        else:\n",
    "            assert len(weighted) == len(ks)\n",
    "\n",
    "\n",
    "        all_rank = []\n",
    "        debug_count = 0\n",
    "        for a in ans:\n",
    "            a = a[np.argsort(a[:,3], axis=0)]\n",
    "            ranks = np.where(a[:,4]==type_of_dataset)\n",
    "#             print(ranks)\n",
    "            weight=a[ranks][:,3]\n",
    "            for k_idx, k in enumerate(ks):\n",
    "                    if weighted[k_idx]:\n",
    "                        hitAtK[k_idx] += sum((ranks[0] <= k)*weight)\n",
    "                        count[k_idx] += sum(weight)\n",
    "                    else:\n",
    "                        hitAtK[k_idx] += sum(ranks[0] <= k)\n",
    "                        count[k_idx] += ranks[0].shape[0]\n",
    "        # print('count: ',count)\n",
    "        return hitAtK / count, all_rank\n",
    "class IndexScore:\n",
    "        \"\"\"\n",
    "        The score of a tail when h and r is given.\n",
    "        It's used in the ranking task to facilitate comparison and sorting.\n",
    "        Print w as 3 digit precision float.\n",
    "        \"\"\"\n",
    "\n",
    "        def __init__(self, index, score):\n",
    "            self.index = index\n",
    "            self.score = score\n",
    "\n",
    "        def __lt__(self, other):\n",
    "            return self.score < other.score\n",
    "\n",
    "        def __repr__(self):\n",
    "            # return \"(index: %d, w:%.3f)\" % (self.index, self.score)\n",
    "            return \"(%d, %.3f)\" % (self.index, self.score)\n",
    "\n",
    "        def __str__(self):\n",
    "            return \"(index: %d, w:%.3f)\" % (self.index, self.score)\n",
    "\n",
    "def mean_ndcg(self, ans, type_of_dataset, verbose, accurate_mode=False):\n",
    "        \"\"\"\n",
    "        Compute nDCG(normalized discounted cummulative gain)\n",
    "        sum(score_ground_truth / log2(rank+1)) / max_possible_dcg\n",
    "        :param tw_truth: [IndexScore1, IndexScore2, ...], soreted by IndexScore.score descending\n",
    "        :param accurate_mode: set this flag to disable \"Fast Ranking\"\n",
    "        :return:\n",
    "        \"\"\"\n",
    "        # prediction\n",
    "        for a in ans:\n",
    "            a = a[np.argsort(a[:,3], axis=0)]\n",
    "            ranks = np.where(a[:,4]==type_of_dataset)\n",
    "#             print(ranks)\n",
    "            weight=a[ranks][:,3]\n",
    "            for k_idx, k in enumerate(ks):\n",
    "                    if weighted[k_idx]:\n",
    "                        hitAtK[k_idx] += sum((ranks[0] <= k)*weight)\n",
    "                        count[k_idx] += sum(weight)\n",
    "                    else:\n",
    "                        hitAtK[k_idx] += sum(ranks[0] <= k)\n",
    "                        count[k_idx] += ranks[0].shape[0]\n",
    "        # linear gain\n",
    "        gains = np.array([tw.score for tw in tw_truth])\n",
    "        # print('gains')\n",
    "        # print(gains)\n",
    "        discounts = np.log2(ranks + 1)\n",
    "        discounted_gains = gains / discounts\n",
    "\n",
    "        dcg = np.sum(discounted_gains)  # discounted cumulative gain\n",
    "        # normalize\n",
    "        max_possible_dcg = np.sum(gains / np.log2(np.arange(len(gains)) + 2))  # when ranks = [1, 2, ...len(truth)]\n",
    "        ndcg = dcg / max_possible_dcg  # normalized discounted cumulative gain\n",
    "\n",
    "        # exponential gain\n",
    "        exp_gains = np.array([2 ** tw.score - 1 for tw in tw_truth])\n",
    "        # print('exp_gains')\n",
    "        # print(exp_gains)\n",
    "        exp_discounted_gains = exp_gains / discounts\n",
    "        # print('discounts')\n",
    "        # print(discounts)\n",
    "        exp_dcg = np.sum(exp_discounted_gains)\n",
    "        # print('exp_dcg')\n",
    "        # print(exp_dcg)\n",
    "        # normalize\n",
    "        exp_max_possible_dcg = np.sum(\n",
    "            exp_gains / np.log2(np.arange(len(exp_gains)) + 2))  # when ranks = [1, 2, ...len(truth)]\n",
    "        # print('exp_max_possible_dcg')\n",
    "        # print(exp_max_possible_dcg)\n",
    "        exp_ndcg = exp_dcg / exp_max_possible_dcg  # normalized discounted cumulative gain\n",
    "\n",
    "        return ndcg, exp_ndcg"
   ]
  },
  {
   "cell_type": "code",
   "execution_count": 267,
   "id": "9d765fb4-1776-4eb1-b495-a75954be4909",
   "metadata": {},
   "outputs": [
    {
     "name": "stdout",
     "output_type": "stream",
     "text": [
      "[0.551 0.648 0.744 0.52  0.622 0.718]\n"
     ]
    }
   ],
   "source": [
    "ideal_mean_hit,_ = mean_hitAtK(ans, 1, [10,20,40,10,20,40], weighted=[False,False,False,True,True,True], accurate_mode=False,verbose = False)\n",
    "print(ideal_mean_hit)"
   ]
  },
  {
   "cell_type": "code",
   "execution_count": 3,
   "id": "a080d8db-28d3-4efd-b718-7f8c2ea40fc7",
   "metadata": {},
   "outputs": [],
   "source": [
    "import matplotlib.pyplot as plt\n",
    "\n",
    "def plt_hist(data,name):\n",
    "    n, bins, patches=plt.hist(data[:,3],bins=100)\n",
    "    plt.xlabel(\"w value\")\n",
    "    plt.ylabel(\"Frequency\")\n",
    "    plt.title(name + \" set\")\n",
    "    plt.savefig(name + \".png\")\n",
    "    plt.show()\n",
    "def cal_mean(data):\n",
    "    summ = 0\n",
    "    count =0\n",
    "#     print(data)\n",
    "    summ = np.sum(data, axis=0)[3]\n",
    "    count = data.shape[0]\n",
    "    print(summ/count)"
   ]
  },
  {
   "cell_type": "code",
   "execution_count": 9,
   "id": "c770e74d-11d9-4b76-b597-a76104a5d1b7",
   "metadata": {},
   "outputs": [
    {
     "name": "stdout",
     "output_type": "stream",
     "text": [
      "ppi\n",
      "0.4150533887039539\n",
      "0.4147313982226304\n",
      "0.41241477900551604\n",
      "nl\n",
      "0.7946528317864997\n",
      "0.8101972374964843\n",
      "0.8059193827795796\n",
      "cn\n",
      "0.6290652085214853\n",
      "0.6299481999103813\n",
      "0.6272531330330928\n"
     ]
    },
    {
     "data": {
      "image/png": "[encoded data removed]",
      "text/plain": [
       "<Figure size 432x288 with 1 Axes>"
      ]
     },
     "metadata": {
      "needs_background": "light"
     },
     "output_type": "display_data"
    },
    {
     "data": {
      "image/png": "[encoded data removed]",
      "text/plain": [
       "<Figure size 432x288 with 1 Axes>"
      ]
     },
     "metadata": {
      "needs_background": "light"
     },
     "output_type": "display_data"
    },
    {
     "data": {
      "image/png": "[encoded data removed]",
      "text/plain": [
       "<Figure size 432x288 with 1 Axes>"
      ]
     },
     "metadata": {
      "needs_background": "light"
     },
     "output_type": "display_data"
    }
   ],
   "source": [
    "c = 0\n",
    "d = [\"ppi\",\"nl\",\"cn\"]\n",
    "for i in [ppi5k,nl27k,cn15k]:\n",
    "    print(d[c])\n",
    "    c+=1\n",
    "    cal_mean(i.triples)\n",
    "    cal_mean(i.val_triples)\n",
    "    cal_mean(i.test_triples)\n",
    "plt_hist(cn15k.triples, \"train\")\n",
    "plt_hist(cn15k.val_triples, \"val\")\n",
    "plt_hist(cn15k.test_triples,\"test\")\n"
   ]
  },
  {
   "cell_type": "code",
   "execution_count": 55,
   "id": "87f9f358-e0eb-4ad4-9571-bfa806731416",
   "metadata": {},
   "outputs": [
    {
     "data": {
      "image/png": "[encoded data removed]",
      "text/plain": [
       "<Figure size 432x288 with 1 Axes>"
      ]
     },
     "metadata": {},
     "output_type": "display_data"
    }
   ],
   "source": [
    "import networkx as nx\n",
    "\n",
    "G = nx.DiGraph()\n",
    "for i in ppi5k.triples:\n",
    "    G.add_edge(i[0], i[2], weights=i[3], rel = i[1])\n",
    "nx.draw(G)\n",
    "plt.savefig(\"nl27k.png\")\n",
    "plt.show()"
   ]
  },
  {
   "cell_type": "code",
   "execution_count": 4,
   "id": "3e973b58-261c-46e4-af43-caddfcf223c6",
   "metadata": {},
   "outputs": [
    {
     "name": "stderr",
     "output_type": "stream",
     "text": [
      "Using TensorFlow backend.\n"
     ]
    }
   ],
   "source": [
    "import tensorflow as tf\n",
    "import numpy as np\n",
    "from keras import backend as K \n",
    "K.clear_session()"
   ]
  },
  {
   "cell_type": "code",
   "execution_count": 36,
   "id": "ce136524-db71-4b0a-af0a-49e7be1cd7a2",
   "metadata": {},
   "outputs": [
    {
     "name": "stdout",
     "output_type": "stream",
     "text": [
      "[1. 4.]\n",
      "1.0\n"
     ]
    }
   ],
   "source": [
    "import pandas as pd\n",
    "import numpy as np\n",
    "df = pd.DataFrame()\n",
    "arr = np.empty((0,3), float)\n",
    "a = np.array([[1, 2, 3]])\n",
    "# print(df)\n",
    "arr = np.vstack([arr,[1,2,3]])\n",
    "arr = np.vstack([arr,[4,5,6]])\n",
    "print(arr[:,0])\n",
    "avg_bigger = np.sum(arr[:,0]/arr[:,2],axis=0)\n",
    "print(avg_bigger)"
   ]
  },
  {
   "cell_type": "code",
   "execution_count": 37,
   "id": "bb582402-f0d5-47d0-bd53-6dfb2f050139",
   "metadata": {},
   "outputs": [
    {
     "name": "stdout",
     "output_type": "stream",
     "text": [
      "{1: 1}\n"
     ]
    }
   ],
   "source": [
    "i={}\n",
    "i[1] = 1\n",
    "print(i)"
   ]
  }
 ],
 "metadata": {
  "kernelspec": {
   "display_name": "Python 3",
   "language": "python",
   "name": "python3"
  },
  "language_info": {
   "codemirror_mode": {
    "name": "ipython",
    "version": 3
   },
   "file_extension": ".py",
   "mimetype": "text/x-python",
   "name": "python",
   "nbconvert_exporter": "python",
   "pygments_lexer": "ipython3",
   "version": "3.6.13"
  }
 },
 "nbformat": 4,
 "nbformat_minor": 5
}
